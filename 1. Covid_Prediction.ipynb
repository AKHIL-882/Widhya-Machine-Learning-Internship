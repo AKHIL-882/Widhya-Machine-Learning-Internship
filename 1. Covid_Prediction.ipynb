{
  "nbformat": 4,
  "nbformat_minor": 0,
  "metadata": {
    "colab": {
      "name": "Covid Prediction.ipynb",
      "provenance": [],
      "authorship_tag": "ABX9TyPjgqON/AFoeTrUjk+umigp",
      "include_colab_link": true
    },
    "kernelspec": {
      "name": "python3",
      "display_name": "Python 3"
    }
  },
  "cells": [
    {
      "cell_type": "markdown",
      "metadata": {
        "id": "view-in-github",
        "colab_type": "text"
      },
      "source": [
        "<a href=\"https://colab.research.google.com/github/AKHIL-882/Widhya-Machine-Learning-Internship/blob/main/1.%20Covid_Prediction.ipynb\" target=\"_parent\"><img src=\"https://colab.research.google.com/assets/colab-badge.svg\" alt=\"Open In Colab\"/></a>"
      ]
    },
    {
      "cell_type": "code",
      "metadata": {
        "id": "dvJx61bPW5vs"
      },
      "source": [
        "import pandas as pd\r\n",
        "import numpy as np\r\n",
        "import matplotlib.pyplot as plt\r\n",
        "import seaborn as sns\r\n",
        "%matplotlib inline"
      ],
      "execution_count": 1,
      "outputs": []
    },
    {
      "cell_type": "code",
      "metadata": {
        "colab": {
          "resources": {
            "http://localhost:8080/nbextensions/google.colab/files.js": {
              "data": "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",
              "ok": true,
              "headers": [
                [
                  "content-type",
                  "application/javascript"
                ]
              ],
              "status": 200,
              "status_text": ""
            }
          },
          "base_uri": "https://localhost:8080/",
          "height": 73
        },
        "id": "2v_NszOpXFkK",
        "outputId": "6bf3d537-5b64-45aa-bb16-6a94effd8684"
      },
      "source": [
        "from google.colab import files\r\n",
        "upload = files.upload()"
      ],
      "execution_count": 2,
      "outputs": [
        {
          "output_type": "display_data",
          "data": {
            "text/html": [
              "\n",
              "     <input type=\"file\" id=\"files-b0366c9b-c982-4210-b06d-5b42a50a2e8f\" name=\"files[]\" multiple disabled\n",
              "        style=\"border:none\" />\n",
              "     <output id=\"result-b0366c9b-c982-4210-b06d-5b42a50a2e8f\">\n",
              "      Upload widget is only available when the cell has been executed in the\n",
              "      current browser session. Please rerun this cell to enable.\n",
              "      </output>\n",
              "      <script src=\"/nbextensions/google.colab/files.js\"></script> "
            ],
            "text/plain": [
              "<IPython.core.display.HTML object>"
            ]
          },
          "metadata": {
            "tags": []
          }
        },
        {
          "output_type": "stream",
          "text": [
            "Saving covid19.csv to covid19 (1).csv\n"
          ],
          "name": "stdout"
        }
      ]
    },
    {
      "cell_type": "markdown",
      "metadata": {
        "id": "m6FxUM4DY67S"
      },
      "source": [
        "### **1. Reading the dataset**"
      ]
    },
    {
      "cell_type": "code",
      "metadata": {
        "id": "O-Ste5IgX7OC"
      },
      "source": [
        "import io\r\n",
        "dataset = pd.read_csv('covid19.csv')"
      ],
      "execution_count": 3,
      "outputs": []
    },
    {
      "cell_type": "markdown",
      "metadata": {
        "id": "Mofa9sbVdoE0"
      },
      "source": [
        "**1.1 Printing the first 10 rows of the dataset**"
      ]
    },
    {
      "cell_type": "code",
      "metadata": {
        "colab": {
          "base_uri": "https://localhost:8080/",
          "height": 343
        },
        "id": "pRNL6OrvYJzB",
        "outputId": "e5be3747-9966-4d3f-df32-7505f02a21e1"
      },
      "source": [
        "dataset.head(10)"
      ],
      "execution_count": 4,
      "outputs": [
        {
          "output_type": "execute_result",
          "data": {
            "text/html": [
              "<div>\n",
              "<style scoped>\n",
              "    .dataframe tbody tr th:only-of-type {\n",
              "        vertical-align: middle;\n",
              "    }\n",
              "\n",
              "    .dataframe tbody tr th {\n",
              "        vertical-align: top;\n",
              "    }\n",
              "\n",
              "    .dataframe thead th {\n",
              "        text-align: right;\n",
              "    }\n",
              "</style>\n",
              "<table border=\"1\" class=\"dataframe\">\n",
              "  <thead>\n",
              "    <tr style=\"text-align: right;\">\n",
              "      <th></th>\n",
              "      <th>Sno</th>\n",
              "      <th>Date</th>\n",
              "      <th>State/UnionTerritory</th>\n",
              "      <th>ConfirmedIndianNational</th>\n",
              "      <th>ConfirmedForeignNational</th>\n",
              "      <th>Cured</th>\n",
              "      <th>Deaths</th>\n",
              "    </tr>\n",
              "  </thead>\n",
              "  <tbody>\n",
              "    <tr>\n",
              "      <th>0</th>\n",
              "      <td>1</td>\n",
              "      <td>30/01/20</td>\n",
              "      <td>Kerala</td>\n",
              "      <td>1</td>\n",
              "      <td>0</td>\n",
              "      <td>0</td>\n",
              "      <td>0</td>\n",
              "    </tr>\n",
              "    <tr>\n",
              "      <th>1</th>\n",
              "      <td>2</td>\n",
              "      <td>31/01/20</td>\n",
              "      <td>Kerala</td>\n",
              "      <td>1</td>\n",
              "      <td>0</td>\n",
              "      <td>0</td>\n",
              "      <td>0</td>\n",
              "    </tr>\n",
              "    <tr>\n",
              "      <th>2</th>\n",
              "      <td>3</td>\n",
              "      <td>01/02/20</td>\n",
              "      <td>Kerala</td>\n",
              "      <td>2</td>\n",
              "      <td>0</td>\n",
              "      <td>0</td>\n",
              "      <td>0</td>\n",
              "    </tr>\n",
              "    <tr>\n",
              "      <th>3</th>\n",
              "      <td>4</td>\n",
              "      <td>02/02/20</td>\n",
              "      <td>Kerala</td>\n",
              "      <td>3</td>\n",
              "      <td>0</td>\n",
              "      <td>0</td>\n",
              "      <td>0</td>\n",
              "    </tr>\n",
              "    <tr>\n",
              "      <th>4</th>\n",
              "      <td>5</td>\n",
              "      <td>03/02/20</td>\n",
              "      <td>Kerala</td>\n",
              "      <td>3</td>\n",
              "      <td>0</td>\n",
              "      <td>0</td>\n",
              "      <td>0</td>\n",
              "    </tr>\n",
              "    <tr>\n",
              "      <th>5</th>\n",
              "      <td>6</td>\n",
              "      <td>04/02/20</td>\n",
              "      <td>Kerala</td>\n",
              "      <td>3</td>\n",
              "      <td>0</td>\n",
              "      <td>0</td>\n",
              "      <td>0</td>\n",
              "    </tr>\n",
              "    <tr>\n",
              "      <th>6</th>\n",
              "      <td>7</td>\n",
              "      <td>05/02/20</td>\n",
              "      <td>Kerala</td>\n",
              "      <td>3</td>\n",
              "      <td>0</td>\n",
              "      <td>0</td>\n",
              "      <td>0</td>\n",
              "    </tr>\n",
              "    <tr>\n",
              "      <th>7</th>\n",
              "      <td>8</td>\n",
              "      <td>06/02/20</td>\n",
              "      <td>Kerala</td>\n",
              "      <td>3</td>\n",
              "      <td>0</td>\n",
              "      <td>0</td>\n",
              "      <td>0</td>\n",
              "    </tr>\n",
              "    <tr>\n",
              "      <th>8</th>\n",
              "      <td>9</td>\n",
              "      <td>07/02/20</td>\n",
              "      <td>Kerala</td>\n",
              "      <td>3</td>\n",
              "      <td>0</td>\n",
              "      <td>0</td>\n",
              "      <td>0</td>\n",
              "    </tr>\n",
              "    <tr>\n",
              "      <th>9</th>\n",
              "      <td>10</td>\n",
              "      <td>08/02/20</td>\n",
              "      <td>Kerala</td>\n",
              "      <td>3</td>\n",
              "      <td>0</td>\n",
              "      <td>0</td>\n",
              "      <td>0</td>\n",
              "    </tr>\n",
              "  </tbody>\n",
              "</table>\n",
              "</div>"
            ],
            "text/plain": [
              "   Sno      Date State/UnionTerritory  ...  ConfirmedForeignNational  Cured  Deaths\n",
              "0    1  30/01/20               Kerala  ...                         0      0       0\n",
              "1    2  31/01/20               Kerala  ...                         0      0       0\n",
              "2    3  01/02/20               Kerala  ...                         0      0       0\n",
              "3    4  02/02/20               Kerala  ...                         0      0       0\n",
              "4    5  03/02/20               Kerala  ...                         0      0       0\n",
              "5    6  04/02/20               Kerala  ...                         0      0       0\n",
              "6    7  05/02/20               Kerala  ...                         0      0       0\n",
              "7    8  06/02/20               Kerala  ...                         0      0       0\n",
              "8    9  07/02/20               Kerala  ...                         0      0       0\n",
              "9   10  08/02/20               Kerala  ...                         0      0       0\n",
              "\n",
              "[10 rows x 7 columns]"
            ]
          },
          "metadata": {
            "tags": []
          },
          "execution_count": 4
        }
      ]
    },
    {
      "cell_type": "markdown",
      "metadata": {
        "id": "VM9g6-QBdvbP"
      },
      "source": [
        "**1.2 Printing the last 10 rows of the dataset**"
      ]
    },
    {
      "cell_type": "code",
      "metadata": {
        "colab": {
          "base_uri": "https://localhost:8080/",
          "height": 343
        },
        "id": "2HpET_enYsrD",
        "outputId": "7ba1a1dc-1844-4969-a880-46adb5757249"
      },
      "source": [
        "dataset.tail(10)"
      ],
      "execution_count": 5,
      "outputs": [
        {
          "output_type": "execute_result",
          "data": {
            "text/html": [
              "<div>\n",
              "<style scoped>\n",
              "    .dataframe tbody tr th:only-of-type {\n",
              "        vertical-align: middle;\n",
              "    }\n",
              "\n",
              "    .dataframe tbody tr th {\n",
              "        vertical-align: top;\n",
              "    }\n",
              "\n",
              "    .dataframe thead th {\n",
              "        text-align: right;\n",
              "    }\n",
              "</style>\n",
              "<table border=\"1\" class=\"dataframe\">\n",
              "  <thead>\n",
              "    <tr style=\"text-align: right;\">\n",
              "      <th></th>\n",
              "      <th>Sno</th>\n",
              "      <th>Date</th>\n",
              "      <th>State/UnionTerritory</th>\n",
              "      <th>ConfirmedIndianNational</th>\n",
              "      <th>ConfirmedForeignNational</th>\n",
              "      <th>Cured</th>\n",
              "      <th>Deaths</th>\n",
              "    </tr>\n",
              "  </thead>\n",
              "  <tbody>\n",
              "    <tr>\n",
              "      <th>260</th>\n",
              "      <td>261</td>\n",
              "      <td>21/03/20</td>\n",
              "      <td>Punjab</td>\n",
              "      <td>13</td>\n",
              "      <td>0</td>\n",
              "      <td>0</td>\n",
              "      <td>1</td>\n",
              "    </tr>\n",
              "    <tr>\n",
              "      <th>261</th>\n",
              "      <td>262</td>\n",
              "      <td>21/03/20</td>\n",
              "      <td>Rajasthan</td>\n",
              "      <td>15</td>\n",
              "      <td>2</td>\n",
              "      <td>3</td>\n",
              "      <td>0</td>\n",
              "    </tr>\n",
              "    <tr>\n",
              "      <th>262</th>\n",
              "      <td>263</td>\n",
              "      <td>21/03/20</td>\n",
              "      <td>Tamil Nadu</td>\n",
              "      <td>3</td>\n",
              "      <td>0</td>\n",
              "      <td>1</td>\n",
              "      <td>0</td>\n",
              "    </tr>\n",
              "    <tr>\n",
              "      <th>263</th>\n",
              "      <td>264</td>\n",
              "      <td>21/03/20</td>\n",
              "      <td>Telengana</td>\n",
              "      <td>10</td>\n",
              "      <td>11</td>\n",
              "      <td>1</td>\n",
              "      <td>0</td>\n",
              "    </tr>\n",
              "    <tr>\n",
              "      <th>264</th>\n",
              "      <td>265</td>\n",
              "      <td>21/03/20</td>\n",
              "      <td>Chandigarh</td>\n",
              "      <td>1</td>\n",
              "      <td>0</td>\n",
              "      <td>0</td>\n",
              "      <td>0</td>\n",
              "    </tr>\n",
              "    <tr>\n",
              "      <th>265</th>\n",
              "      <td>266</td>\n",
              "      <td>21/03/20</td>\n",
              "      <td>Jammu and Kashmir</td>\n",
              "      <td>4</td>\n",
              "      <td>0</td>\n",
              "      <td>0</td>\n",
              "      <td>0</td>\n",
              "    </tr>\n",
              "    <tr>\n",
              "      <th>266</th>\n",
              "      <td>267</td>\n",
              "      <td>21/03/20</td>\n",
              "      <td>Ladakh</td>\n",
              "      <td>13</td>\n",
              "      <td>0</td>\n",
              "      <td>0</td>\n",
              "      <td>0</td>\n",
              "    </tr>\n",
              "    <tr>\n",
              "      <th>267</th>\n",
              "      <td>268</td>\n",
              "      <td>21/03/20</td>\n",
              "      <td>Uttar Pradesh</td>\n",
              "      <td>23</td>\n",
              "      <td>1</td>\n",
              "      <td>9</td>\n",
              "      <td>0</td>\n",
              "    </tr>\n",
              "    <tr>\n",
              "      <th>268</th>\n",
              "      <td>269</td>\n",
              "      <td>21/03/20</td>\n",
              "      <td>Uttarakhand</td>\n",
              "      <td>3</td>\n",
              "      <td>0</td>\n",
              "      <td>0</td>\n",
              "      <td>0</td>\n",
              "    </tr>\n",
              "    <tr>\n",
              "      <th>269</th>\n",
              "      <td>270</td>\n",
              "      <td>21/03/20</td>\n",
              "      <td>West Bengal</td>\n",
              "      <td>3</td>\n",
              "      <td>0</td>\n",
              "      <td>0</td>\n",
              "      <td>0</td>\n",
              "    </tr>\n",
              "  </tbody>\n",
              "</table>\n",
              "</div>"
            ],
            "text/plain": [
              "     Sno      Date  ... Cured  Deaths\n",
              "260  261  21/03/20  ...     0       1\n",
              "261  262  21/03/20  ...     3       0\n",
              "262  263  21/03/20  ...     1       0\n",
              "263  264  21/03/20  ...     1       0\n",
              "264  265  21/03/20  ...     0       0\n",
              "265  266  21/03/20  ...     0       0\n",
              "266  267  21/03/20  ...     0       0\n",
              "267  268  21/03/20  ...     9       0\n",
              "268  269  21/03/20  ...     0       0\n",
              "269  270  21/03/20  ...     0       0\n",
              "\n",
              "[10 rows x 7 columns]"
            ]
          },
          "metadata": {
            "tags": []
          },
          "execution_count": 5
        }
      ]
    },
    {
      "cell_type": "markdown",
      "metadata": {
        "id": "L7UMjb0Jdzz4"
      },
      "source": [
        "**1.3. Knowing the description of the dataset**"
      ]
    },
    {
      "cell_type": "code",
      "metadata": {
        "colab": {
          "base_uri": "https://localhost:8080/",
          "height": 284
        },
        "id": "CBXddJ4wY_Me",
        "outputId": "98e28b71-5e46-45ed-8265-6a085070b245"
      },
      "source": [
        "dataset.describe()"
      ],
      "execution_count": 6,
      "outputs": [
        {
          "output_type": "execute_result",
          "data": {
            "text/html": [
              "<div>\n",
              "<style scoped>\n",
              "    .dataframe tbody tr th:only-of-type {\n",
              "        vertical-align: middle;\n",
              "    }\n",
              "\n",
              "    .dataframe tbody tr th {\n",
              "        vertical-align: top;\n",
              "    }\n",
              "\n",
              "    .dataframe thead th {\n",
              "        text-align: right;\n",
              "    }\n",
              "</style>\n",
              "<table border=\"1\" class=\"dataframe\">\n",
              "  <thead>\n",
              "    <tr style=\"text-align: right;\">\n",
              "      <th></th>\n",
              "      <th>Sno</th>\n",
              "      <th>ConfirmedIndianNational</th>\n",
              "      <th>ConfirmedForeignNational</th>\n",
              "      <th>Cured</th>\n",
              "      <th>Deaths</th>\n",
              "    </tr>\n",
              "  </thead>\n",
              "  <tbody>\n",
              "    <tr>\n",
              "      <th>count</th>\n",
              "      <td>270.000000</td>\n",
              "      <td>270.000000</td>\n",
              "      <td>270.000000</td>\n",
              "      <td>270.000000</td>\n",
              "      <td>270.000000</td>\n",
              "    </tr>\n",
              "    <tr>\n",
              "      <th>mean</th>\n",
              "      <td>135.500000</td>\n",
              "      <td>5.551852</td>\n",
              "      <td>1.329630</td>\n",
              "      <td>0.603704</td>\n",
              "      <td>0.092593</td>\n",
              "    </tr>\n",
              "    <tr>\n",
              "      <th>std</th>\n",
              "      <td>78.086491</td>\n",
              "      <td>8.339625</td>\n",
              "      <td>3.587288</td>\n",
              "      <td>1.461522</td>\n",
              "      <td>0.290399</td>\n",
              "    </tr>\n",
              "    <tr>\n",
              "      <th>min</th>\n",
              "      <td>1.000000</td>\n",
              "      <td>0.000000</td>\n",
              "      <td>0.000000</td>\n",
              "      <td>0.000000</td>\n",
              "      <td>0.000000</td>\n",
              "    </tr>\n",
              "    <tr>\n",
              "      <th>25%</th>\n",
              "      <td>68.250000</td>\n",
              "      <td>1.000000</td>\n",
              "      <td>0.000000</td>\n",
              "      <td>0.000000</td>\n",
              "      <td>0.000000</td>\n",
              "    </tr>\n",
              "    <tr>\n",
              "      <th>50%</th>\n",
              "      <td>135.500000</td>\n",
              "      <td>3.000000</td>\n",
              "      <td>0.000000</td>\n",
              "      <td>0.000000</td>\n",
              "      <td>0.000000</td>\n",
              "    </tr>\n",
              "    <tr>\n",
              "      <th>75%</th>\n",
              "      <td>202.750000</td>\n",
              "      <td>6.000000</td>\n",
              "      <td>0.000000</td>\n",
              "      <td>0.000000</td>\n",
              "      <td>0.000000</td>\n",
              "    </tr>\n",
              "    <tr>\n",
              "      <th>max</th>\n",
              "      <td>270.000000</td>\n",
              "      <td>60.000000</td>\n",
              "      <td>14.000000</td>\n",
              "      <td>9.000000</td>\n",
              "      <td>1.000000</td>\n",
              "    </tr>\n",
              "  </tbody>\n",
              "</table>\n",
              "</div>"
            ],
            "text/plain": [
              "              Sno  ConfirmedIndianNational  ...       Cured      Deaths\n",
              "count  270.000000               270.000000  ...  270.000000  270.000000\n",
              "mean   135.500000                 5.551852  ...    0.603704    0.092593\n",
              "std     78.086491                 8.339625  ...    1.461522    0.290399\n",
              "min      1.000000                 0.000000  ...    0.000000    0.000000\n",
              "25%     68.250000                 1.000000  ...    0.000000    0.000000\n",
              "50%    135.500000                 3.000000  ...    0.000000    0.000000\n",
              "75%    202.750000                 6.000000  ...    0.000000    0.000000\n",
              "max    270.000000                60.000000  ...    9.000000    1.000000\n",
              "\n",
              "[8 rows x 5 columns]"
            ]
          },
          "metadata": {
            "tags": []
          },
          "execution_count": 6
        }
      ]
    },
    {
      "cell_type": "markdown",
      "metadata": {
        "id": "ClrhG1uKd6wd"
      },
      "source": [
        "**1.4 Knowing the information of the dataset**"
      ]
    },
    {
      "cell_type": "code",
      "metadata": {
        "colab": {
          "base_uri": "https://localhost:8080/"
        },
        "id": "sVi16RbIZDFQ",
        "outputId": "bd79b0ee-3db3-4613-f29f-ce3a39e606db"
      },
      "source": [
        "dataset.info()"
      ],
      "execution_count": 7,
      "outputs": [
        {
          "output_type": "stream",
          "text": [
            "<class 'pandas.core.frame.DataFrame'>\n",
            "RangeIndex: 270 entries, 0 to 269\n",
            "Data columns (total 7 columns):\n",
            " #   Column                    Non-Null Count  Dtype \n",
            "---  ------                    --------------  ----- \n",
            " 0   Sno                       270 non-null    int64 \n",
            " 1   Date                      270 non-null    object\n",
            " 2   State/UnionTerritory      270 non-null    object\n",
            " 3   ConfirmedIndianNational   270 non-null    int64 \n",
            " 4   ConfirmedForeignNational  270 non-null    int64 \n",
            " 5   Cured                     270 non-null    int64 \n",
            " 6   Deaths                    270 non-null    int64 \n",
            "dtypes: int64(5), object(2)\n",
            "memory usage: 14.9+ KB\n"
          ],
          "name": "stdout"
        }
      ]
    },
    {
      "cell_type": "markdown",
      "metadata": {
        "id": "mBX0R91ieD03"
      },
      "source": [
        "**1.5 Checking whether the dataset contains null values or not**"
      ]
    },
    {
      "cell_type": "code",
      "metadata": {
        "colab": {
          "base_uri": "https://localhost:8080/"
        },
        "id": "wet7hGKSZUSA",
        "outputId": "ef491cb7-e9af-4b2c-cc39-41775af1d111"
      },
      "source": [
        "dataset.isnull().sum()"
      ],
      "execution_count": 8,
      "outputs": [
        {
          "output_type": "execute_result",
          "data": {
            "text/plain": [
              "Sno                         0\n",
              "Date                        0\n",
              "State/UnionTerritory        0\n",
              "ConfirmedIndianNational     0\n",
              "ConfirmedForeignNational    0\n",
              "Cured                       0\n",
              "Deaths                      0\n",
              "dtype: int64"
            ]
          },
          "metadata": {
            "tags": []
          },
          "execution_count": 8
        }
      ]
    },
    {
      "cell_type": "markdown",
      "metadata": {
        "id": "6UHG7_sueRkw"
      },
      "source": [
        "### **2 Findind the count of cases**"
      ]
    },
    {
      "cell_type": "markdown",
      "metadata": {
        "id": "DLtd5imseWQa"
      },
      "source": [
        "**2.1 Finding the cases of India based on date**"
      ]
    },
    {
      "cell_type": "code",
      "metadata": {
        "colab": {
          "base_uri": "https://localhost:8080/"
        },
        "id": "-3-OivNaaiNY",
        "outputId": "f51113ab-7f14-4928-93a3-1684ba350bbe"
      },
      "source": [
        "dateset_groupby_indians = dataset.groupby('Date')['ConfirmedIndianNational'].sum()\r\n",
        "dateset_groupby_indians"
      ],
      "execution_count": 35,
      "outputs": [
        {
          "output_type": "execute_result",
          "data": {
            "text/plain": [
              "Date\n",
              "01/02/20      2\n",
              "01/03/20      3\n",
              "02/02/20      3\n",
              "02/03/20      5\n",
              "03/02/20      3\n",
              "03/03/20      5\n",
              "04/02/20      3\n",
              "04/03/20     12\n",
              "05/02/20      3\n",
              "05/03/20     14\n",
              "06/02/20      3\n",
              "06/03/20     15\n",
              "07/02/20      3\n",
              "07/03/20     18\n",
              "08/02/20      3\n",
              "08/03/20     23\n",
              "09/02/20      3\n",
              "09/03/20     30\n",
              "10/02/20      3\n",
              "10/03/20     42\n",
              "11/02/20      3\n",
              "11/03/20     44\n",
              "12/02/20      3\n",
              "12/03/20     57\n",
              "13/02/20      3\n",
              "13/03/20     64\n",
              "14/02/20      3\n",
              "14/03/20     67\n",
              "15/02/20      3\n",
              "15/03/20     93\n",
              "16/02/20      3\n",
              "16/03/20     97\n",
              "17/02/20      3\n",
              "17/03/20    113\n",
              "18/02/20      3\n",
              "18/03/20    126\n",
              "19/02/20      3\n",
              "19/03/20    148\n",
              "20/02/20      3\n",
              "20/03/20    191\n",
              "21/02/20      3\n",
              "21/03/20    244\n",
              "22/02/20      3\n",
              "23/02/20      3\n",
              "24/02/20      3\n",
              "25/02/20      3\n",
              "26/02/20      3\n",
              "27/02/20      3\n",
              "28/02/20      3\n",
              "29/02/20      3\n",
              "30/01/20      1\n",
              "31/01/20      1\n",
              "Name: ConfirmedIndianNational, dtype: int64"
            ]
          },
          "metadata": {
            "tags": []
          },
          "execution_count": 35
        }
      ]
    },
    {
      "cell_type": "markdown",
      "metadata": {
        "id": "3So2zf91evZU"
      },
      "source": [
        "**2.1 Finding the cases of Foreign based on date**"
      ]
    },
    {
      "cell_type": "code",
      "metadata": {
        "colab": {
          "base_uri": "https://localhost:8080/"
        },
        "id": "b6GaivI8chdp",
        "outputId": "58ac6844-f089-4863-9ab5-3927b1b292af"
      },
      "source": [
        "dataset_groupby_foreign = dataset.groupby('Date')['ConfirmedForeignNational'].sum()\r\n",
        "dataset_groupby_foreign"
      ],
      "execution_count": 14,
      "outputs": [
        {
          "output_type": "execute_result",
          "data": {
            "text/plain": [
              "Date\n",
              "01/02/20     0\n",
              "01/03/20     0\n",
              "02/02/20     0\n",
              "02/03/20     0\n",
              "03/02/20     0\n",
              "03/03/20     1\n",
              "04/02/20     0\n",
              "04/03/20    16\n",
              "05/02/20     0\n",
              "05/03/20    16\n",
              "06/02/20     0\n",
              "06/03/20    16\n",
              "07/02/20     0\n",
              "07/03/20    16\n",
              "08/02/20     0\n",
              "08/03/20    16\n",
              "09/02/20     0\n",
              "09/03/20    16\n",
              "10/02/20     0\n",
              "10/03/20    16\n",
              "11/02/20     0\n",
              "11/03/20    16\n",
              "12/02/20     0\n",
              "12/03/20    17\n",
              "13/02/20     0\n",
              "13/03/20    17\n",
              "14/02/20     0\n",
              "14/03/20    17\n",
              "15/02/20     0\n",
              "15/03/20    17\n",
              "16/02/20     0\n",
              "16/03/20    17\n",
              "17/02/20     0\n",
              "17/03/20    24\n",
              "18/02/20     0\n",
              "18/03/20    25\n",
              "19/02/20     0\n",
              "19/03/20    25\n",
              "20/02/20     0\n",
              "20/03/20    32\n",
              "21/02/20     0\n",
              "21/03/20    39\n",
              "22/02/20     0\n",
              "23/02/20     0\n",
              "24/02/20     0\n",
              "25/02/20     0\n",
              "26/02/20     0\n",
              "27/02/20     0\n",
              "28/02/20     0\n",
              "29/02/20     0\n",
              "30/01/20     0\n",
              "31/01/20     0\n",
              "Name: ConfirmedForeignNational, dtype: int64"
            ]
          },
          "metadata": {
            "tags": []
          },
          "execution_count": 14
        }
      ]
    },
    {
      "cell_type": "markdown",
      "metadata": {
        "id": "gNf4kMZwfj6g"
      },
      "source": [
        "**2.3 Finding the number of cases cured based on date**"
      ]
    },
    {
      "cell_type": "code",
      "metadata": {
        "colab": {
          "base_uri": "https://localhost:8080/"
        },
        "id": "-7DwfBwwe8po",
        "outputId": "577e2cc7-6696-4d23-d980-0fac00614d81"
      },
      "source": [
        "dataset_groupby_cured = dataset.groupby('Date')['Cured'].sum()\r\n",
        "dataset_groupby_cured"
      ],
      "execution_count": 15,
      "outputs": [
        {
          "output_type": "execute_result",
          "data": {
            "text/plain": [
              "Date\n",
              "01/02/20     0\n",
              "01/03/20     0\n",
              "02/02/20     0\n",
              "02/03/20     0\n",
              "03/02/20     0\n",
              "03/03/20     3\n",
              "04/02/20     0\n",
              "04/03/20     3\n",
              "05/02/20     0\n",
              "05/03/20     3\n",
              "06/02/20     0\n",
              "06/03/20     3\n",
              "07/02/20     0\n",
              "07/03/20     3\n",
              "08/02/20     0\n",
              "08/03/20     3\n",
              "09/02/20     0\n",
              "09/03/20     3\n",
              "10/02/20     0\n",
              "10/03/20     3\n",
              "11/02/20     0\n",
              "11/03/20     3\n",
              "12/02/20     0\n",
              "12/03/20     3\n",
              "13/02/20     0\n",
              "13/03/20     3\n",
              "14/02/20     0\n",
              "14/03/20    10\n",
              "15/02/20     0\n",
              "15/03/20    13\n",
              "16/02/20     0\n",
              "16/03/20    13\n",
              "17/02/20     0\n",
              "17/03/20    14\n",
              "18/02/20     0\n",
              "18/03/20    14\n",
              "19/02/20     0\n",
              "19/03/20    20\n",
              "20/02/20     0\n",
              "20/03/20    23\n",
              "21/02/20     0\n",
              "21/03/20    23\n",
              "22/02/20     0\n",
              "23/02/20     0\n",
              "24/02/20     0\n",
              "25/02/20     0\n",
              "26/02/20     0\n",
              "27/02/20     0\n",
              "28/02/20     0\n",
              "29/02/20     0\n",
              "30/01/20     0\n",
              "31/01/20     0\n",
              "Name: Cured, dtype: int64"
            ]
          },
          "metadata": {
            "tags": []
          },
          "execution_count": 15
        }
      ]
    },
    {
      "cell_type": "markdown",
      "metadata": {
        "id": "9AQp__cyfpVb"
      },
      "source": [
        "**2.4 Finding the number of deaths based on date**"
      ]
    },
    {
      "cell_type": "code",
      "metadata": {
        "colab": {
          "base_uri": "https://localhost:8080/"
        },
        "id": "-WQR3H7yfXcF",
        "outputId": "8951414d-3a4f-4b89-89c3-227a016bf227"
      },
      "source": [
        "dataset_groupby_deaths = dataset.groupby('Date')['Deaths'].sum()\r\n",
        "dataset_groupby_deaths"
      ],
      "execution_count": 16,
      "outputs": [
        {
          "output_type": "execute_result",
          "data": {
            "text/plain": [
              "Date\n",
              "01/02/20    0\n",
              "01/03/20    0\n",
              "02/02/20    0\n",
              "02/03/20    0\n",
              "03/02/20    0\n",
              "03/03/20    0\n",
              "04/02/20    0\n",
              "04/03/20    0\n",
              "05/02/20    0\n",
              "05/03/20    0\n",
              "06/02/20    0\n",
              "06/03/20    0\n",
              "07/02/20    0\n",
              "07/03/20    0\n",
              "08/02/20    0\n",
              "08/03/20    0\n",
              "09/02/20    0\n",
              "09/03/20    0\n",
              "10/02/20    0\n",
              "10/03/20    0\n",
              "11/02/20    0\n",
              "11/03/20    0\n",
              "12/02/20    0\n",
              "12/03/20    0\n",
              "13/02/20    0\n",
              "13/03/20    1\n",
              "14/02/20    0\n",
              "14/03/20    2\n",
              "15/02/20    0\n",
              "15/03/20    2\n",
              "16/02/20    0\n",
              "16/03/20    2\n",
              "17/02/20    0\n",
              "17/03/20    3\n",
              "18/02/20    0\n",
              "18/03/20    3\n",
              "19/02/20    0\n",
              "19/03/20    4\n",
              "20/02/20    0\n",
              "20/03/20    4\n",
              "21/02/20    0\n",
              "21/03/20    4\n",
              "22/02/20    0\n",
              "23/02/20    0\n",
              "24/02/20    0\n",
              "25/02/20    0\n",
              "26/02/20    0\n",
              "27/02/20    0\n",
              "28/02/20    0\n",
              "29/02/20    0\n",
              "30/01/20    0\n",
              "31/01/20    0\n",
              "Name: Deaths, dtype: int64"
            ]
          },
          "metadata": {
            "tags": []
          },
          "execution_count": 16
        }
      ]
    },
    {
      "cell_type": "markdown",
      "metadata": {
        "id": "Ti0ZPEWwg8Ts"
      },
      "source": [
        "**2.5 Finding the cases by states**"
      ]
    },
    {
      "cell_type": "code",
      "metadata": {
        "colab": {
          "base_uri": "https://localhost:8080/"
        },
        "id": "XXEmvN3VftWa",
        "outputId": "8b4a1525-f966-4522-fd89-b1bcf11b387d"
      },
      "source": [
        "dataset_groupby_deaths = dataset.groupby('State/UnionTerritory')['ConfirmedIndianNational'].sum()\r\n",
        "dataset_groupby_deaths"
      ],
      "execution_count": 19,
      "outputs": [
        {
          "output_type": "execute_result",
          "data": {
            "text/plain": [
              "State/UnionTerritory\n",
              "Andhra Pradesh                           15\n",
              "Chandigarh                                1\n",
              "Chattisgarh                               1\n",
              "Chhattisgarh                              2\n",
              "Delhi                                   129\n",
              "Gujarat                                  12\n",
              "Haryana                                  13\n",
              "Himachal Pradesh                          2\n",
              "Jammu and Kashmir                         4\n",
              "Karnataka                               103\n",
              "Kerala                                  391\n",
              "Ladakh                                   13\n",
              "Madhya Pradesh                            4\n",
              "Maharashtra                             340\n",
              "Odisha                                    8\n",
              "Pondicherry                               2\n",
              "Puducherry                                2\n",
              "Punjab                                   27\n",
              "Rajasthan                                54\n",
              "Tamil Nadu                               20\n",
              "Telengana                                48\n",
              "Union Territory of Chandigarh             2\n",
              "Union Territory of Jammu and Kashmir     26\n",
              "Union Territory of Ladakh                58\n",
              "Uttar Pradesh                           204\n",
              "Uttarakhand                              11\n",
              "West Bengal                               7\n",
              "Name: ConfirmedIndianNational, dtype: int64"
            ]
          },
          "metadata": {
            "tags": []
          },
          "execution_count": 19
        }
      ]
    },
    {
      "cell_type": "markdown",
      "metadata": {
        "id": "HPS9jMiZiBmd"
      },
      "source": [
        "### **3. Sum of All columns**"
      ]
    },
    {
      "cell_type": "code",
      "metadata": {
        "colab": {
          "base_uri": "https://localhost:8080/"
        },
        "id": "37tFhWdnhGrU",
        "outputId": "b64bb413-c7f6-4a39-fa58-70a480e1c548"
      },
      "source": [
        "dataset_groupby_cured.sum()"
      ],
      "execution_count": 36,
      "outputs": [
        {
          "output_type": "execute_result",
          "data": {
            "text/plain": [
              "163"
            ]
          },
          "metadata": {
            "tags": []
          },
          "execution_count": 36
        }
      ]
    },
    {
      "cell_type": "code",
      "metadata": {
        "colab": {
          "base_uri": "https://localhost:8080/"
        },
        "id": "vGF7tOpwj1-b",
        "outputId": "cda1a302-131c-4c82-8a8c-136fa0c3edb1"
      },
      "source": [
        "dataset_groupby_deaths.sum(axis=None)"
      ],
      "execution_count": 50,
      "outputs": [
        {
          "output_type": "execute_result",
          "data": {
            "text/plain": [
              "1499"
            ]
          },
          "metadata": {
            "tags": []
          },
          "execution_count": 50
        }
      ]
    },
    {
      "cell_type": "code",
      "metadata": {
        "colab": {
          "base_uri": "https://localhost:8080/"
        },
        "id": "6eX-aGZIiOmE",
        "outputId": "510914af-ccb4-4f76-c96a-346afa241e79"
      },
      "source": [
        "dataset_groupby_foreign.sum()"
      ],
      "execution_count": 38,
      "outputs": [
        {
          "output_type": "execute_result",
          "data": {
            "text/plain": [
              "359"
            ]
          },
          "metadata": {
            "tags": []
          },
          "execution_count": 38
        }
      ]
    },
    {
      "cell_type": "code",
      "metadata": {
        "colab": {
          "base_uri": "https://localhost:8080/"
        },
        "id": "uJeeQ_TpiQyt",
        "outputId": "37534ea0-06cd-43b2-f044-39f5400bfaee"
      },
      "source": [
        "dateset_groupby_indians.sum()"
      ],
      "execution_count": 46,
      "outputs": [
        {
          "output_type": "execute_result",
          "data": {
            "text/plain": [
              "1499"
            ]
          },
          "metadata": {
            "tags": []
          },
          "execution_count": 46
        }
      ]
    },
    {
      "cell_type": "markdown",
      "metadata": {
        "id": "3bCI9P7Ej87K"
      },
      "source": [
        "**3.1 From Columns**"
      ]
    },
    {
      "cell_type": "code",
      "metadata": {
        "colab": {
          "base_uri": "https://localhost:8080/"
        },
        "id": "ugE0yOYmiWCF",
        "outputId": "09303232-0e15-4a3a-9c5f-da2263fc3cc6"
      },
      "source": [
        "dataset.Deaths.sum()"
      ],
      "execution_count": 40,
      "outputs": [
        {
          "output_type": "execute_result",
          "data": {
            "text/plain": [
              "25"
            ]
          },
          "metadata": {
            "tags": []
          },
          "execution_count": 40
        }
      ]
    },
    {
      "cell_type": "code",
      "metadata": {
        "colab": {
          "base_uri": "https://localhost:8080/"
        },
        "id": "M20KZnyni49M",
        "outputId": "a0b7d8e6-490b-43eb-e923-b5c7ab5a1b7a"
      },
      "source": [
        "dataset.Cured.sum()"
      ],
      "execution_count": 41,
      "outputs": [
        {
          "output_type": "execute_result",
          "data": {
            "text/plain": [
              "163"
            ]
          },
          "metadata": {
            "tags": []
          },
          "execution_count": 41
        }
      ]
    },
    {
      "cell_type": "code",
      "metadata": {
        "colab": {
          "base_uri": "https://localhost:8080/"
        },
        "id": "f7jeHTB_jb_j",
        "outputId": "a5ed6ead-85f6-457a-9d47-fd68a58f6448"
      },
      "source": [
        "dataset.ConfirmedForeignNational.sum()"
      ],
      "execution_count": 42,
      "outputs": [
        {
          "output_type": "execute_result",
          "data": {
            "text/plain": [
              "359"
            ]
          },
          "metadata": {
            "tags": []
          },
          "execution_count": 42
        }
      ]
    },
    {
      "cell_type": "code",
      "metadata": {
        "colab": {
          "base_uri": "https://localhost:8080/"
        },
        "id": "lWF-lg9Ejht-",
        "outputId": "905e6ae2-fbd9-4169-debd-db6dd39e36a4"
      },
      "source": [
        "dataset.ConfirmedIndianNational.sum()"
      ],
      "execution_count": 44,
      "outputs": [
        {
          "output_type": "execute_result",
          "data": {
            "text/plain": [
              "1499"
            ]
          },
          "metadata": {
            "tags": []
          },
          "execution_count": 44
        }
      ]
    },
    {
      "cell_type": "markdown",
      "metadata": {
        "id": "7lKfDx2WnBow"
      },
      "source": [
        "### **4 Visualizations**"
      ]
    },
    {
      "cell_type": "markdown",
      "metadata": {
        "id": "TgHV0JB3ocBr"
      },
      "source": [
        "**4.1 Visualizing using Scatter plots on total cases of Indians**"
      ]
    },
    {
      "cell_type": "code",
      "metadata": {
        "colab": {
          "base_uri": "https://localhost:8080/",
          "height": 877
        },
        "id": "N592IFrgjk4W",
        "outputId": "7962e6bc-6535-472f-9499-b76a84579f2e"
      },
      "source": [
        "fig, ax = plt.subplots(figsize = (20,15))\r\n",
        "ax.scatter(dataset['Date'],dataset['ConfirmedIndianNational'])\r\n",
        "ax.set_xlabel('Date')\r\n",
        "ax.set_ylabel('ConfirmedIndianNational')\r\n",
        "plt.show()"
      ],
      "execution_count": 61,
      "outputs": [
        {
          "output_type": "display_data",
          "data": {
            "image/png": "[encoded data removed]",
            "text/plain": [
              "<Figure size 1440x1080 with 1 Axes>"
            ]
          },
          "metadata": {
            "tags": [],
            "needs_background": "light"
          }
        }
      ]
    },
    {
      "cell_type": "markdown",
      "metadata": {
        "id": "em9mlZ-3ojOa"
      },
      "source": [
        "**4.2 Visualizing using Scatter Plot on total cases of Foreign**"
      ]
    },
    {
      "cell_type": "code",
      "metadata": {
        "colab": {
          "base_uri": "https://localhost:8080/",
          "height": 434
        },
        "id": "XDUlyBu6nVEZ",
        "outputId": "dc5aecd7-16b6-4420-92da-f763e11fde12"
      },
      "source": [
        "fig, ax = plt.subplots(figsize = (25,7))\r\n",
        "ax.scatter(dataset['Date'],dataset['ConfirmedForeignNational'])\r\n",
        "ax.set_xlabel('Date')\r\n",
        "ax.set_ylabel('ConfirmedForeignNational')\r\n",
        "plt.show()"
      ],
      "execution_count": 66,
      "outputs": [
        {
          "output_type": "display_data",
          "data": {
            "image/png": "[encoded data removed]",
            "text/plain": [
              "<Figure size 1800x504 with 1 Axes>"
            ]
          },
          "metadata": {
            "tags": [],
            "needs_background": "light"
          }
        }
      ]
    },
    {
      "cell_type": "code",
      "metadata": {
        "id": "PsE9YiDRoDqX"
      },
      "source": [
        ""
      ],
      "execution_count": null,
      "outputs": []
    }
  ]
}