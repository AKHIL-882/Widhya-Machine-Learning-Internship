{
  "nbformat": 4,
  "nbformat_minor": 0,
  "metadata": {
    "colab": {
      "name": "Stock Price Prediction.ipynb",
      "provenance": []
    },
    "kernelspec": {
      "name": "python3",
      "display_name": "Python 3"
    },
    "accelerator": "TPU"
  },
  "cells": [
    {
      "cell_type": "code",
      "metadata": {
        "colab": {
          "base_uri": "https://localhost:8080/"
        },
        "id": "Xuihzd0whJQ7",
        "outputId": "4f07f3e8-50ed-4b8c-fe77-2db74eace277"
      },
      "source": [
        "!pip install quandl\r\n",
        "import quandl, math\r\n",
        "import numpy as np\r\n",
        "import pandas as pd\r\n",
        "import warnings\r\n",
        "warnings.filterwarnings('ignore')"
      ],
      "execution_count": 2,
      "outputs": [
        {
          "output_type": "stream",
          "text": [
            "Collecting quandl\n",
            "  Downloading https://files.pythonhosted.org/packages/c2/58/9f0e69d836045e3865d263e9ed49f42b23a58526fdabb30f74c430baee3f/Quandl-3.6.0-py2.py3-none-any.whl\n",
            "Requirement already satisfied: pandas>=0.14 in /usr/local/lib/python3.6/dist-packages (from quandl) (1.1.5)\n",
            "Requirement already satisfied: requests>=2.7.0 in /usr/local/lib/python3.6/dist-packages (from quandl) (2.23.0)\n",
            "Collecting inflection>=0.3.1\n",
            "  Downloading https://files.pythonhosted.org/packages/59/91/aa6bde563e0085a02a435aa99b49ef75b0a4b062635e606dab23ce18d720/inflection-0.5.1-py2.py3-none-any.whl\n",
            "Requirement already satisfied: six in /usr/local/lib/python3.6/dist-packages (from quandl) (1.15.0)\n",
            "Requirement already satisfied: numpy>=1.8 in /usr/local/lib/python3.6/dist-packages (from quandl) (1.19.5)\n",
            "Requirement already satisfied: more-itertools in /usr/local/lib/python3.6/dist-packages (from quandl) (8.6.0)\n",
            "Requirement already satisfied: python-dateutil in /usr/local/lib/python3.6/dist-packages (from quandl) (2.8.1)\n",
            "Requirement already satisfied: pytz>=2017.2 in /usr/local/lib/python3.6/dist-packages (from pandas>=0.14->quandl) (2018.9)\n",
            "Requirement already satisfied: idna<3,>=2.5 in /usr/local/lib/python3.6/dist-packages (from requests>=2.7.0->quandl) (2.10)\n",
            "Requirement already satisfied: urllib3!=1.25.0,!=1.25.1,<1.26,>=1.21.1 in /usr/local/lib/python3.6/dist-packages (from requests>=2.7.0->quandl) (1.24.3)\n",
            "Requirement already satisfied: certifi>=2017.4.17 in /usr/local/lib/python3.6/dist-packages (from requests>=2.7.0->quandl) (2020.12.5)\n",
            "Requirement already satisfied: chardet<4,>=3.0.2 in /usr/local/lib/python3.6/dist-packages (from requests>=2.7.0->quandl) (3.0.4)\n",
            "Installing collected packages: inflection, quandl\n",
            "Successfully installed inflection-0.5.1 quandl-3.6.0\n"
          ],
          "name": "stdout"
        }
      ]
    },
    {
      "cell_type": "code",
      "metadata": {
        "colab": {
          "base_uri": "https://localhost:8080/",
          "height": 225
        },
        "id": "JBJgeTKphfFI",
        "outputId": "db82bd58-6b69-4e95-ddf9-abd5381a84eb"
      },
      "source": [
        "token = 'os7VyFRZ9CN2wZ6pZiKB'\r\n",
        "dataset = quandl.get(\"EOD/AAPL\", authtoken = token)\r\n",
        "dataset.head()"
      ],
      "execution_count": 5,
      "outputs": [
        {
          "output_type": "execute_result",
          "data": {
            "text/html": [
              "<div>\n",
              "<style scoped>\n",
              "    .dataframe tbody tr th:only-of-type {\n",
              "        vertical-align: middle;\n",
              "    }\n",
              "\n",
              "    .dataframe tbody tr th {\n",
              "        vertical-align: top;\n",
              "    }\n",
              "\n",
              "    .dataframe thead th {\n",
              "        text-align: right;\n",
              "    }\n",
              "</style>\n",
              "<table border=\"1\" class=\"dataframe\">\n",
              "  <thead>\n",
              "    <tr style=\"text-align: right;\">\n",
              "      <th></th>\n",
              "      <th>Open</th>\n",
              "      <th>High</th>\n",
              "      <th>Low</th>\n",
              "      <th>Close</th>\n",
              "      <th>Volume</th>\n",
              "      <th>Dividend</th>\n",
              "      <th>Split</th>\n",
              "      <th>Adj_Open</th>\n",
              "      <th>Adj_High</th>\n",
              "      <th>Adj_Low</th>\n",
              "      <th>Adj_Close</th>\n",
              "      <th>Adj_Volume</th>\n",
              "    </tr>\n",
              "    <tr>\n",
              "      <th>Date</th>\n",
              "      <th></th>\n",
              "      <th></th>\n",
              "      <th></th>\n",
              "      <th></th>\n",
              "      <th></th>\n",
              "      <th></th>\n",
              "      <th></th>\n",
              "      <th></th>\n",
              "      <th></th>\n",
              "      <th></th>\n",
              "      <th></th>\n",
              "      <th></th>\n",
              "    </tr>\n",
              "  </thead>\n",
              "  <tbody>\n",
              "    <tr>\n",
              "      <th>2013-09-03</th>\n",
              "      <td>493.10</td>\n",
              "      <td>500.60</td>\n",
              "      <td>487.35</td>\n",
              "      <td>488.580</td>\n",
              "      <td>11854600.0</td>\n",
              "      <td>0.0</td>\n",
              "      <td>1.0</td>\n",
              "      <td>15.619650</td>\n",
              "      <td>15.857223</td>\n",
              "      <td>15.437510</td>\n",
              "      <td>15.476472</td>\n",
              "      <td>331928800.0</td>\n",
              "    </tr>\n",
              "    <tr>\n",
              "      <th>2013-09-04</th>\n",
              "      <td>499.56</td>\n",
              "      <td>502.24</td>\n",
              "      <td>496.28</td>\n",
              "      <td>498.691</td>\n",
              "      <td>12322600.0</td>\n",
              "      <td>0.0</td>\n",
              "      <td>1.0</td>\n",
              "      <td>15.824280</td>\n",
              "      <td>15.909173</td>\n",
              "      <td>15.720381</td>\n",
              "      <td>15.796753</td>\n",
              "      <td>345032800.0</td>\n",
              "    </tr>\n",
              "    <tr>\n",
              "      <th>2013-09-05</th>\n",
              "      <td>500.25</td>\n",
              "      <td>500.68</td>\n",
              "      <td>493.64</td>\n",
              "      <td>495.270</td>\n",
              "      <td>8441700.0</td>\n",
              "      <td>0.0</td>\n",
              "      <td>1.0</td>\n",
              "      <td>15.846136</td>\n",
              "      <td>15.859757</td>\n",
              "      <td>15.636755</td>\n",
              "      <td>15.688388</td>\n",
              "      <td>236367600.0</td>\n",
              "    </tr>\n",
              "    <tr>\n",
              "      <th>2013-09-06</th>\n",
              "      <td>498.44</td>\n",
              "      <td>499.38</td>\n",
              "      <td>489.95</td>\n",
              "      <td>498.220</td>\n",
              "      <td>12840200.0</td>\n",
              "      <td>0.0</td>\n",
              "      <td>1.0</td>\n",
              "      <td>15.788802</td>\n",
              "      <td>15.818578</td>\n",
              "      <td>15.519869</td>\n",
              "      <td>15.781833</td>\n",
              "      <td>359525600.0</td>\n",
              "    </tr>\n",
              "    <tr>\n",
              "      <th>2013-09-09</th>\n",
              "      <td>505.00</td>\n",
              "      <td>507.92</td>\n",
              "      <td>503.48</td>\n",
              "      <td>506.170</td>\n",
              "      <td>12167400.0</td>\n",
              "      <td>0.0</td>\n",
              "      <td>1.0</td>\n",
              "      <td>15.996600</td>\n",
              "      <td>16.089095</td>\n",
              "      <td>15.948451</td>\n",
              "      <td>16.033661</td>\n",
              "      <td>340687200.0</td>\n",
              "    </tr>\n",
              "  </tbody>\n",
              "</table>\n",
              "</div>"
            ],
            "text/plain": [
              "              Open    High     Low  ...    Adj_Low  Adj_Close   Adj_Volume\n",
              "Date                                ...                                   \n",
              "2013-09-03  493.10  500.60  487.35  ...  15.437510  15.476472  331928800.0\n",
              "2013-09-04  499.56  502.24  496.28  ...  15.720381  15.796753  345032800.0\n",
              "2013-09-05  500.25  500.68  493.64  ...  15.636755  15.688388  236367600.0\n",
              "2013-09-06  498.44  499.38  489.95  ...  15.519869  15.781833  359525600.0\n",
              "2013-09-09  505.00  507.92  503.48  ...  15.948451  16.033661  340687200.0\n",
              "\n",
              "[5 rows x 12 columns]"
            ]
          },
          "metadata": {
            "tags": []
          },
          "execution_count": 5
        }
      ]
    },
    {
      "cell_type": "code",
      "metadata": {
        "colab": {
          "base_uri": "https://localhost:8080/"
        },
        "id": "rcV5tCJKh9lt",
        "outputId": "4ac491f5-8112-436c-fd79-46fa5ee25fe9"
      },
      "source": [
        "dataset.shape"
      ],
      "execution_count": 7,
      "outputs": [
        {
          "output_type": "execute_result",
          "data": {
            "text/plain": [
              "(1090, 12)"
            ]
          },
          "metadata": {
            "tags": []
          },
          "execution_count": 7
        }
      ]
    },
    {
      "cell_type": "code",
      "metadata": {
        "colab": {
          "base_uri": "https://localhost:8080/",
          "height": 225
        },
        "id": "yvz97S7Xilwr",
        "outputId": "66cc3c7b-d211-4464-ca87-a8809a84b033"
      },
      "source": [
        "dataset_new = dataset.copy()\r\n",
        "\r\n",
        "dataset_new['HL_PCT'] = (dataset_new['Adj_High'] - dataset_new['Adj_Low'])/dataset_new['Adj_Close'] * 100.0\r\n",
        "\r\n",
        "dataset_new['PCT_Change'] = (dataset_new['Adj_Close'] - dataset_new['Adj_Open'])/dataset_new['Adj_Open'] * 100.0\r\n",
        "\r\n",
        "dataset_new.head()"
      ],
      "execution_count": 8,
      "outputs": [
        {
          "output_type": "execute_result",
          "data": {
            "text/html": [
              "<div>\n",
              "<style scoped>\n",
              "    .dataframe tbody tr th:only-of-type {\n",
              "        vertical-align: middle;\n",
              "    }\n",
              "\n",
              "    .dataframe tbody tr th {\n",
              "        vertical-align: top;\n",
              "    }\n",
              "\n",
              "    .dataframe thead th {\n",
              "        text-align: right;\n",
              "    }\n",
              "</style>\n",
              "<table border=\"1\" class=\"dataframe\">\n",
              "  <thead>\n",
              "    <tr style=\"text-align: right;\">\n",
              "      <th></th>\n",
              "      <th>Open</th>\n",
              "      <th>High</th>\n",
              "      <th>Low</th>\n",
              "      <th>Close</th>\n",
              "      <th>Volume</th>\n",
              "      <th>Dividend</th>\n",
              "      <th>Split</th>\n",
              "      <th>Adj_Open</th>\n",
              "      <th>Adj_High</th>\n",
              "      <th>Adj_Low</th>\n",
              "      <th>Adj_Close</th>\n",
              "      <th>Adj_Volume</th>\n",
              "      <th>HL_PCT</th>\n",
              "      <th>PCT_Change</th>\n",
              "    </tr>\n",
              "    <tr>\n",
              "      <th>Date</th>\n",
              "      <th></th>\n",
              "      <th></th>\n",
              "      <th></th>\n",
              "      <th></th>\n",
              "      <th></th>\n",
              "      <th></th>\n",
              "      <th></th>\n",
              "      <th></th>\n",
              "      <th></th>\n",
              "      <th></th>\n",
              "      <th></th>\n",
              "      <th></th>\n",
              "      <th></th>\n",
              "      <th></th>\n",
              "    </tr>\n",
              "  </thead>\n",
              "  <tbody>\n",
              "    <tr>\n",
              "      <th>2013-09-03</th>\n",
              "      <td>493.10</td>\n",
              "      <td>500.60</td>\n",
              "      <td>487.35</td>\n",
              "      <td>488.580</td>\n",
              "      <td>11854600.0</td>\n",
              "      <td>0.0</td>\n",
              "      <td>1.0</td>\n",
              "      <td>15.619650</td>\n",
              "      <td>15.857223</td>\n",
              "      <td>15.437510</td>\n",
              "      <td>15.476472</td>\n",
              "      <td>331928800.0</td>\n",
              "      <td>2.711941</td>\n",
              "      <td>-0.916650</td>\n",
              "    </tr>\n",
              "    <tr>\n",
              "      <th>2013-09-04</th>\n",
              "      <td>499.56</td>\n",
              "      <td>502.24</td>\n",
              "      <td>496.28</td>\n",
              "      <td>498.691</td>\n",
              "      <td>12322600.0</td>\n",
              "      <td>0.0</td>\n",
              "      <td>1.0</td>\n",
              "      <td>15.824280</td>\n",
              "      <td>15.909173</td>\n",
              "      <td>15.720381</td>\n",
              "      <td>15.796753</td>\n",
              "      <td>345032800.0</td>\n",
              "      <td>1.195129</td>\n",
              "      <td>-0.173953</td>\n",
              "    </tr>\n",
              "    <tr>\n",
              "      <th>2013-09-05</th>\n",
              "      <td>500.25</td>\n",
              "      <td>500.68</td>\n",
              "      <td>493.64</td>\n",
              "      <td>495.270</td>\n",
              "      <td>8441700.0</td>\n",
              "      <td>0.0</td>\n",
              "      <td>1.0</td>\n",
              "      <td>15.846136</td>\n",
              "      <td>15.859757</td>\n",
              "      <td>15.636755</td>\n",
              "      <td>15.688388</td>\n",
              "      <td>236367600.0</td>\n",
              "      <td>1.421447</td>\n",
              "      <td>-0.995502</td>\n",
              "    </tr>\n",
              "    <tr>\n",
              "      <th>2013-09-06</th>\n",
              "      <td>498.44</td>\n",
              "      <td>499.38</td>\n",
              "      <td>489.95</td>\n",
              "      <td>498.220</td>\n",
              "      <td>12840200.0</td>\n",
              "      <td>0.0</td>\n",
              "      <td>1.0</td>\n",
              "      <td>15.788802</td>\n",
              "      <td>15.818578</td>\n",
              "      <td>15.519869</td>\n",
              "      <td>15.781833</td>\n",
              "      <td>359525600.0</td>\n",
              "      <td>1.892738</td>\n",
              "      <td>-0.044138</td>\n",
              "    </tr>\n",
              "    <tr>\n",
              "      <th>2013-09-09</th>\n",
              "      <td>505.00</td>\n",
              "      <td>507.92</td>\n",
              "      <td>503.48</td>\n",
              "      <td>506.170</td>\n",
              "      <td>12167400.0</td>\n",
              "      <td>0.0</td>\n",
              "      <td>1.0</td>\n",
              "      <td>15.996600</td>\n",
              "      <td>16.089095</td>\n",
              "      <td>15.948451</td>\n",
              "      <td>16.033661</td>\n",
              "      <td>340687200.0</td>\n",
              "      <td>0.877176</td>\n",
              "      <td>0.231683</td>\n",
              "    </tr>\n",
              "  </tbody>\n",
              "</table>\n",
              "</div>"
            ],
            "text/plain": [
              "              Open    High     Low  ...   Adj_Volume    HL_PCT  PCT_Change\n",
              "Date                                ...                                   \n",
              "2013-09-03  493.10  500.60  487.35  ...  331928800.0  2.711941   -0.916650\n",
              "2013-09-04  499.56  502.24  496.28  ...  345032800.0  1.195129   -0.173953\n",
              "2013-09-05  500.25  500.68  493.64  ...  236367600.0  1.421447   -0.995502\n",
              "2013-09-06  498.44  499.38  489.95  ...  359525600.0  1.892738   -0.044138\n",
              "2013-09-09  505.00  507.92  503.48  ...  340687200.0  0.877176    0.231683\n",
              "\n",
              "[5 rows x 14 columns]"
            ]
          },
          "metadata": {
            "tags": []
          },
          "execution_count": 8
        }
      ]
    },
    {
      "cell_type": "code",
      "metadata": {
        "colab": {
          "base_uri": "https://localhost:8080/",
          "height": 225
        },
        "id": "w0FQtCB-jThI",
        "outputId": "f3c98a5c-bb47-4e36-f096-0344b3b4dff2"
      },
      "source": [
        "dataset_new_filtered = dataset_new[['Adj_Close','PCT_Change','HL_PCT','Adj_Volume']]\r\n",
        "dataset_new_filtered.head()"
      ],
      "execution_count": 10,
      "outputs": [
        {
          "output_type": "execute_result",
          "data": {
            "text/html": [
              "<div>\n",
              "<style scoped>\n",
              "    .dataframe tbody tr th:only-of-type {\n",
              "        vertical-align: middle;\n",
              "    }\n",
              "\n",
              "    .dataframe tbody tr th {\n",
              "        vertical-align: top;\n",
              "    }\n",
              "\n",
              "    .dataframe thead th {\n",
              "        text-align: right;\n",
              "    }\n",
              "</style>\n",
              "<table border=\"1\" class=\"dataframe\">\n",
              "  <thead>\n",
              "    <tr style=\"text-align: right;\">\n",
              "      <th></th>\n",
              "      <th>Adj_Close</th>\n",
              "      <th>PCT_Change</th>\n",
              "      <th>HL_PCT</th>\n",
              "      <th>Adj_Volume</th>\n",
              "    </tr>\n",
              "    <tr>\n",
              "      <th>Date</th>\n",
              "      <th></th>\n",
              "      <th></th>\n",
              "      <th></th>\n",
              "      <th></th>\n",
              "    </tr>\n",
              "  </thead>\n",
              "  <tbody>\n",
              "    <tr>\n",
              "      <th>2013-09-03</th>\n",
              "      <td>15.476472</td>\n",
              "      <td>-0.916650</td>\n",
              "      <td>2.711941</td>\n",
              "      <td>331928800.0</td>\n",
              "    </tr>\n",
              "    <tr>\n",
              "      <th>2013-09-04</th>\n",
              "      <td>15.796753</td>\n",
              "      <td>-0.173953</td>\n",
              "      <td>1.195129</td>\n",
              "      <td>345032800.0</td>\n",
              "    </tr>\n",
              "    <tr>\n",
              "      <th>2013-09-05</th>\n",
              "      <td>15.688388</td>\n",
              "      <td>-0.995502</td>\n",
              "      <td>1.421447</td>\n",
              "      <td>236367600.0</td>\n",
              "    </tr>\n",
              "    <tr>\n",
              "      <th>2013-09-06</th>\n",
              "      <td>15.781833</td>\n",
              "      <td>-0.044138</td>\n",
              "      <td>1.892738</td>\n",
              "      <td>359525600.0</td>\n",
              "    </tr>\n",
              "    <tr>\n",
              "      <th>2013-09-09</th>\n",
              "      <td>16.033661</td>\n",
              "      <td>0.231683</td>\n",
              "      <td>0.877176</td>\n",
              "      <td>340687200.0</td>\n",
              "    </tr>\n",
              "  </tbody>\n",
              "</table>\n",
              "</div>"
            ],
            "text/plain": [
              "            Adj_Close  PCT_Change    HL_PCT   Adj_Volume\n",
              "Date                                                    \n",
              "2013-09-03  15.476472   -0.916650  2.711941  331928800.0\n",
              "2013-09-04  15.796753   -0.173953  1.195129  345032800.0\n",
              "2013-09-05  15.688388   -0.995502  1.421447  236367600.0\n",
              "2013-09-06  15.781833   -0.044138  1.892738  359525600.0\n",
              "2013-09-09  16.033661    0.231683  0.877176  340687200.0"
            ]
          },
          "metadata": {
            "tags": []
          },
          "execution_count": 10
        }
      ]
    },
    {
      "cell_type": "code",
      "metadata": {
        "id": "PGd5sMspkKJA"
      },
      "source": [
        "dataset_new_filtered.fillna(value = -9999,inplace = True)\r\n",
        "\r\n",
        "forecast_out = int(math.ceil(0.01* len(dataset_new_filtered)))"
      ],
      "execution_count": 11,
      "outputs": []
    },
    {
      "cell_type": "code",
      "metadata": {
        "id": "0h_djgM8ksSJ"
      },
      "source": [
        "dataset_new_filtered['label_forecast_out'] = dataset_new_filtered['Adj_Close'].shift(-forecast_out)"
      ],
      "execution_count": 12,
      "outputs": []
    },
    {
      "cell_type": "code",
      "metadata": {
        "colab": {
          "base_uri": "https://localhost:8080/"
        },
        "id": "pwP2pQmDk8Eo",
        "outputId": "84c4cff2-f6af-4988-c062-92ea2a28c79c"
      },
      "source": [
        "dataset_new_filtered.info()"
      ],
      "execution_count": 13,
      "outputs": [
        {
          "output_type": "stream",
          "text": [
            "<class 'pandas.core.frame.DataFrame'>\n",
            "DatetimeIndex: 1090 entries, 2013-09-03 to 2017-12-28\n",
            "Data columns (total 5 columns):\n",
            " #   Column              Non-Null Count  Dtype  \n",
            "---  ------              --------------  -----  \n",
            " 0   Adj_Close           1090 non-null   float64\n",
            " 1   PCT_Change          1090 non-null   float64\n",
            " 2   HL_PCT              1090 non-null   float64\n",
            " 3   Adj_Volume          1090 non-null   float64\n",
            " 4   label_forecast_out  1079 non-null   float64\n",
            "dtypes: float64(5)\n",
            "memory usage: 51.1 KB\n"
          ],
          "name": "stdout"
        }
      ]
    },
    {
      "cell_type": "code",
      "metadata": {
        "colab": {
          "base_uri": "https://localhost:8080/",
          "height": 373
        },
        "id": "xmqMHm5ulWlM",
        "outputId": "384d0739-ced1-4e27-e502-e7d3d64e6c16"
      },
      "source": [
        "dataset_new_filtered.head(10)"
      ],
      "execution_count": 14,
      "outputs": [
        {
          "output_type": "execute_result",
          "data": {
            "text/html": [
              "<div>\n",
              "<style scoped>\n",
              "    .dataframe tbody tr th:only-of-type {\n",
              "        vertical-align: middle;\n",
              "    }\n",
              "\n",
              "    .dataframe tbody tr th {\n",
              "        vertical-align: top;\n",
              "    }\n",
              "\n",
              "    .dataframe thead th {\n",
              "        text-align: right;\n",
              "    }\n",
              "</style>\n",
              "<table border=\"1\" class=\"dataframe\">\n",
              "  <thead>\n",
              "    <tr style=\"text-align: right;\">\n",
              "      <th></th>\n",
              "      <th>Adj_Close</th>\n",
              "      <th>PCT_Change</th>\n",
              "      <th>HL_PCT</th>\n",
              "      <th>Adj_Volume</th>\n",
              "      <th>label_forecast_out</th>\n",
              "    </tr>\n",
              "    <tr>\n",
              "      <th>Date</th>\n",
              "      <th></th>\n",
              "      <th></th>\n",
              "      <th></th>\n",
              "      <th></th>\n",
              "      <th></th>\n",
              "    </tr>\n",
              "  </thead>\n",
              "  <tbody>\n",
              "    <tr>\n",
              "      <th>2013-09-03</th>\n",
              "      <td>15.476472</td>\n",
              "      <td>-0.916650</td>\n",
              "      <td>2.711941</td>\n",
              "      <td>331928800.0</td>\n",
              "      <td>14.719406</td>\n",
              "    </tr>\n",
              "    <tr>\n",
              "      <th>2013-09-04</th>\n",
              "      <td>15.796753</td>\n",
              "      <td>-0.173953</td>\n",
              "      <td>1.195129</td>\n",
              "      <td>345032800.0</td>\n",
              "      <td>14.960780</td>\n",
              "    </tr>\n",
              "    <tr>\n",
              "      <th>2013-09-05</th>\n",
              "      <td>15.688388</td>\n",
              "      <td>-0.995502</td>\n",
              "      <td>1.421447</td>\n",
              "      <td>236367600.0</td>\n",
              "      <td>14.805882</td>\n",
              "    </tr>\n",
              "    <tr>\n",
              "      <th>2013-09-06</th>\n",
              "      <td>15.781833</td>\n",
              "      <td>-0.044138</td>\n",
              "      <td>1.892738</td>\n",
              "      <td>359525600.0</td>\n",
              "      <td>15.541726</td>\n",
              "    </tr>\n",
              "    <tr>\n",
              "      <th>2013-09-09</th>\n",
              "      <td>16.033661</td>\n",
              "      <td>0.231683</td>\n",
              "      <td>0.877176</td>\n",
              "      <td>340687200.0</td>\n",
              "      <td>15.492944</td>\n",
              "    </tr>\n",
              "    <tr>\n",
              "      <th>2013-09-10</th>\n",
              "      <td>15.668432</td>\n",
              "      <td>-2.283682</td>\n",
              "      <td>3.628902</td>\n",
              "      <td>743195600.0</td>\n",
              "      <td>15.253154</td>\n",
              "    </tr>\n",
              "    <tr>\n",
              "      <th>2013-09-11</th>\n",
              "      <td>14.815385</td>\n",
              "      <td>0.149868</td>\n",
              "      <td>1.898612</td>\n",
              "      <td>898696400.0</td>\n",
              "      <td>15.401716</td>\n",
              "    </tr>\n",
              "    <tr>\n",
              "      <th>2013-09-12</th>\n",
              "      <td>14.973134</td>\n",
              "      <td>0.894344</td>\n",
              "      <td>1.986503</td>\n",
              "      <td>404051200.0</td>\n",
              "      <td>15.291799</td>\n",
              "    </tr>\n",
              "    <tr>\n",
              "      <th>2013-09-13</th>\n",
              "      <td>14.726374</td>\n",
              "      <td>-0.946051</td>\n",
              "      <td>1.533491</td>\n",
              "      <td>298835600.0</td>\n",
              "      <td>15.101740</td>\n",
              "    </tr>\n",
              "    <tr>\n",
              "      <th>2013-09-16</th>\n",
              "      <td>14.258197</td>\n",
              "      <td>-2.360087</td>\n",
              "      <td>3.196903</td>\n",
              "      <td>543706800.0</td>\n",
              "      <td>15.456833</td>\n",
              "    </tr>\n",
              "  </tbody>\n",
              "</table>\n",
              "</div>"
            ],
            "text/plain": [
              "            Adj_Close  PCT_Change    HL_PCT   Adj_Volume  label_forecast_out\n",
              "Date                                                                        \n",
              "2013-09-03  15.476472   -0.916650  2.711941  331928800.0           14.719406\n",
              "2013-09-04  15.796753   -0.173953  1.195129  345032800.0           14.960780\n",
              "2013-09-05  15.688388   -0.995502  1.421447  236367600.0           14.805882\n",
              "2013-09-06  15.781833   -0.044138  1.892738  359525600.0           15.541726\n",
              "2013-09-09  16.033661    0.231683  0.877176  340687200.0           15.492944\n",
              "2013-09-10  15.668432   -2.283682  3.628902  743195600.0           15.253154\n",
              "2013-09-11  14.815385    0.149868  1.898612  898696400.0           15.401716\n",
              "2013-09-12  14.973134    0.894344  1.986503  404051200.0           15.291799\n",
              "2013-09-13  14.726374   -0.946051  1.533491  298835600.0           15.101740\n",
              "2013-09-16  14.258197   -2.360087  3.196903  543706800.0           15.456833"
            ]
          },
          "metadata": {
            "tags": []
          },
          "execution_count": 14
        }
      ]
    },
    {
      "cell_type": "code",
      "metadata": {
        "colab": {
          "base_uri": "https://localhost:8080/"
        },
        "id": "3gvVcsT9laz-",
        "outputId": "e94ee1d6-83b1-4235-9097-83c044ae0411"
      },
      "source": [
        "dataset_new_filtered.dropna(inplace = True)\r\n",
        "dataset_new_filtered.isnull().sum"
      ],
      "execution_count": 15,
      "outputs": [
        {
          "output_type": "execute_result",
          "data": {
            "text/plain": [
              "<bound method DataFrame.sum of             Adj_Close  PCT_Change  HL_PCT  Adj_Volume  label_forecast_out\n",
              "Date                                                                     \n",
              "2013-09-03      False       False   False       False               False\n",
              "2013-09-04      False       False   False       False               False\n",
              "2013-09-05      False       False   False       False               False\n",
              "2013-09-06      False       False   False       False               False\n",
              "2013-09-09      False       False   False       False               False\n",
              "...               ...         ...     ...         ...                 ...\n",
              "2017-12-06      False       False   False       False               False\n",
              "2017-12-07      False       False   False       False               False\n",
              "2017-12-08      False       False   False       False               False\n",
              "2017-12-11      False       False   False       False               False\n",
              "2017-12-12      False       False   False       False               False\n",
              "\n",
              "[1079 rows x 5 columns]>"
            ]
          },
          "metadata": {
            "tags": []
          },
          "execution_count": 15
        }
      ]
    },
    {
      "cell_type": "code",
      "metadata": {
        "id": "8Kv73PGmmBq6"
      },
      "source": [
        "x = np.array(dataset_new_filtered.drop(['label_forecast_out'], axis=1))\r\n",
        "y = np.array(dataset_new_filtered['label_forecast_out'])"
      ],
      "execution_count": 18,
      "outputs": []
    },
    {
      "cell_type": "code",
      "metadata": {
        "id": "1Mzwj5hOnpDJ"
      },
      "source": [
        "from sklearn.preprocessing import StandardScaler\r\n",
        "SS = StandardScaler()\r\n",
        "SS.fit(x)\r\n",
        "x_scale = SS.transform(x)"
      ],
      "execution_count": 19,
      "outputs": []
    },
    {
      "cell_type": "code",
      "metadata": {
        "id": "q5w6s9mWn6H7"
      },
      "source": [
        "from sklearn.model_selection import train_test_split\r\n",
        "\r\n",
        "x_train,x_test,y_train,y_test = train_test_split(x_scale,y, test_size = 0.2, random_state=2)"
      ],
      "execution_count": 20,
      "outputs": []
    },
    {
      "cell_type": "code",
      "metadata": {
        "colab": {
          "base_uri": "https://localhost:8080/"
        },
        "id": "BAuRChzdoNNa",
        "outputId": "88106588-6aba-4c28-bcb4-1ab90b80634d"
      },
      "source": [
        "from sklearn.linear_model import LinearRegression\r\n",
        "LR = LinearRegression(n_jobs = -1)\r\n",
        "LR.fit(x_train,y_train)"
      ],
      "execution_count": 21,
      "outputs": [
        {
          "output_type": "execute_result",
          "data": {
            "text/plain": [
              "LinearRegression(copy_X=True, fit_intercept=True, n_jobs=-1, normalize=False)"
            ]
          },
          "metadata": {
            "tags": []
          },
          "execution_count": 21
        }
      ]
    },
    {
      "cell_type": "code",
      "metadata": {
        "colab": {
          "base_uri": "https://localhost:8080/"
        },
        "id": "g-Krdkn0ojxy",
        "outputId": "cd34589a-9b03-4020-e7f8-8d5e98449b55"
      },
      "source": [
        "LR.intercept_"
      ],
      "execution_count": 22,
      "outputs": [
        {
          "output_type": "execute_result",
          "data": {
            "text/plain": [
              "26.486888717018594"
            ]
          },
          "metadata": {
            "tags": []
          },
          "execution_count": 22
        }
      ]
    },
    {
      "cell_type": "code",
      "metadata": {
        "colab": {
          "base_uri": "https://localhost:8080/"
        },
        "id": "i2ju8WzuoqAL",
        "outputId": "dca10190-c130-4294-fed6-c0b7c12ee3e5"
      },
      "source": [
        "print(list(zip(dataset_new_filtered[:-1],LR.coef_)))"
      ],
      "execution_count": 23,
      "outputs": [
        {
          "output_type": "stream",
          "text": [
            "[('Adj_Close', 6.359907597505405), ('PCT_Change', -0.04855230707036819), ('HL_PCT', 0.007098791889321637), ('Adj_Volume', -0.10810724422867961)]\n"
          ],
          "name": "stdout"
        }
      ]
    },
    {
      "cell_type": "code",
      "metadata": {
        "colab": {
          "base_uri": "https://localhost:8080/"
        },
        "id": "o4S7dTCho1EQ",
        "outputId": "6ab0f93c-4236-4948-f8d6-18d57126a9e9"
      },
      "source": [
        "from sklearn.metrics import mean_squared_error, r2_score\r\n",
        "\r\n",
        "y_pred = LR.predict(x_test)\r\n",
        "print(\"R squared value : \", round(r2_score(y_pred,y_test),4))\r\n",
        "print(\"MSE value \", round(mean_squared_error(y_pred,y_test),4))"
      ],
      "execution_count": 25,
      "outputs": [
        {
          "output_type": "stream",
          "text": [
            "R squared value :  0.9637\n",
            "MSE value  1.3291\n"
          ],
          "name": "stdout"
        }
      ]
    },
    {
      "cell_type": "code",
      "metadata": {
        "id": "lFLpOFfOpTgh"
      },
      "source": [
        ""
      ],
      "execution_count": null,
      "outputs": []
    }
  ]
}